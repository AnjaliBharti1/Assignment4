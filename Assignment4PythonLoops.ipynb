{
  "nbformat": 4,
  "nbformat_minor": 0,
  "metadata": {
    "colab": {
      "provenance": []
    },
    "kernelspec": {
      "name": "python3",
      "display_name": "Python 3"
    },
    "language_info": {
      "name": "python"
    }
  },
  "cells": [
    {
      "cell_type": "code",
      "execution_count": null,
      "metadata": {
        "id": "98dLwfkcJUbW"
      },
      "outputs": [],
      "source": []
    },
    {
      "cell_type": "markdown",
      "source": [
        "1.**Print number from 1 to 5 using a while loop.**"
      ],
      "metadata": {
        "id": "n0Sg7d2OJaeY"
      }
    },
    {
      "cell_type": "code",
      "source": [
        "count = 1\n",
        "while count <= 5:\n",
        " print(count)\n",
        " count += 1"
      ],
      "metadata": {
        "colab": {
          "base_uri": "https://localhost:8080/"
        },
        "id": "FrTgOAzSJjbl",
        "outputId": "187569b1-0d5e-4d78-a7e1-684e93d7b991"
      },
      "execution_count": 1,
      "outputs": [
        {
          "output_type": "stream",
          "name": "stdout",
          "text": [
            "1\n",
            "2\n",
            "3\n",
            "4\n",
            "5\n"
          ]
        }
      ]
    },
    {
      "cell_type": "markdown",
      "source": [
        "2.**Calculate the sum of number from 1 to 10 using a while loop.**"
      ],
      "metadata": {
        "id": "rOAtxmoMJzC9"
      }
    },
    {
      "cell_type": "code",
      "source": [
        "num = 1\n",
        "\n",
        "sum = 0\n",
        "\n",
        "#while loop\n",
        "\n",
        "while num<=10:\n",
        "\n",
        "   sum += num\n",
        "\n",
        "   num += 1\n",
        "\n",
        "#print statement\n",
        "\n",
        "print(\"Sum of numbers from 1 to 10 is \",sum)"
      ],
      "metadata": {
        "colab": {
          "base_uri": "https://localhost:8080/"
        },
        "id": "6KfHW8JiJ9Dy",
        "outputId": "bc0f076e-3568-43e5-db6c-2ca03868de0f"
      },
      "execution_count": 2,
      "outputs": [
        {
          "output_type": "stream",
          "name": "stdout",
          "text": [
            "Sum of numbers from 1 to 10 is  55\n"
          ]
        }
      ]
    },
    {
      "cell_type": "markdown",
      "source": [
        "3.**Calculate the factorial of a number using a for loop.**"
      ],
      "metadata": {
        "id": "U3laMDR6KGiw"
      }
    },
    {
      "cell_type": "code",
      "source": [
        "n = int (input (\"Enter a number: \"))\n",
        "factorial = 1\n",
        "if n >= 1:\n",
        "    for i in range (1, n+1):\n",
        "        factorial=factorial *i\n",
        "print(\"Factorial of the given number is: \", factorial)"
      ],
      "metadata": {
        "colab": {
          "base_uri": "https://localhost:8080/"
        },
        "id": "RgRBl7mXKPkq",
        "outputId": "c5624780-608b-4e4b-e67b-b8d0d99a3ed8"
      },
      "execution_count": 18,
      "outputs": [
        {
          "output_type": "stream",
          "name": "stdout",
          "text": [
            "Enter a number: 10\n",
            "Factorial of the given number is:  3628800\n"
          ]
        }
      ]
    },
    {
      "cell_type": "markdown",
      "source": [
        "4.**Count the number of vowel in a string using a for loop.**"
      ],
      "metadata": {
        "id": "vP5Ojj7uKYzb"
      }
    },
    {
      "cell_type": "code",
      "source": [
        "import re\n",
        "\n",
        "string = \"AnjaliBharti\"\n",
        "vowels = r'[aeiouAEIOU]'\n",
        "count = len(re.findall(vowels, string))\n",
        "print(count)"
      ],
      "metadata": {
        "colab": {
          "base_uri": "https://localhost:8080/"
        },
        "id": "d7HRXvmTKidI",
        "outputId": "8c9dc000-7736-4db7-8dbd-80f39d352b74"
      },
      "execution_count": 20,
      "outputs": [
        {
          "output_type": "stream",
          "name": "stdout",
          "text": [
            "5\n"
          ]
        }
      ]
    },
    {
      "cell_type": "markdown",
      "source": [
        "5.**Print a pattern using nested loop.**"
      ],
      "metadata": {
        "id": "Kvk6DMYlMvO0"
      }
    },
    {
      "cell_type": "code",
      "source": [
        "rows = 6\n",
        "for i in range(rows):\n",
        "    # nested loop\n",
        "    for j in range(i):\n",
        "        # display number\n",
        "        print(i, end=' ')\n",
        "    # new line after each row\n",
        "    print('')\n"
      ],
      "metadata": {
        "colab": {
          "base_uri": "https://localhost:8080/"
        },
        "id": "-M3C5aGTM6FL",
        "outputId": "7a7f6d57-c8fc-4bca-e9b3-a381064ba619"
      },
      "execution_count": 17,
      "outputs": [
        {
          "output_type": "stream",
          "name": "stdout",
          "text": [
            "\n",
            "1 \n",
            "2 2 \n",
            "3 3 3 \n",
            "4 4 4 4 \n",
            "5 5 5 5 5 \n"
          ]
        }
      ]
    },
    {
      "cell_type": "markdown",
      "source": [
        "**6.Generate a multiplication table using nested loop.**"
      ],
      "metadata": {
        "id": "Mj_hMvGWODfr"
      }
    },
    {
      "cell_type": "code",
      "source": [
        "num = 12\n",
        "for i in range(1, 11):\n",
        "   print(num, 'x', i, '=', num*i)"
      ],
      "metadata": {
        "colab": {
          "base_uri": "https://localhost:8080/"
        },
        "id": "YVP3ZeR7OL09",
        "outputId": "841ba38b-c895-4293-f4de-0af71fa2b6e4"
      },
      "execution_count": 19,
      "outputs": [
        {
          "output_type": "stream",
          "name": "stdout",
          "text": [
            "12 x 1 = 12\n",
            "12 x 2 = 24\n",
            "12 x 3 = 36\n",
            "12 x 4 = 48\n",
            "12 x 5 = 60\n",
            "12 x 6 = 72\n",
            "12 x 7 = 84\n",
            "12 x 8 = 96\n",
            "12 x 9 = 108\n",
            "12 x 10 = 120\n"
          ]
        }
      ]
    }
  ]
}